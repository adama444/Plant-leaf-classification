{
 "cells": [
  {
   "cell_type": "markdown",
   "id": "8edbc9e8-054e-4f3c-b8f9-c62048b8aef3",
   "metadata": {},
   "source": [
    "# Features extraction\n",
    "The purpose here is to extract some features from the  plant leaf image segmented. After extraction, we create a csv file that will be used for the classification stage.\n",
    "\n",
    "| Features names |   Elements  |\n",
    "|----------------|-------------|\n",
    "| Form features  | physiological_length, physiological_width, perimeter, area, diameter |\n",
    "| Morphological features | rectangularity, circularity, aspect_ratio |\n",
    "| Colors features | mean and standard deviation of color channel |\n",
    "| Texture features | contrast, entropy, correlation, inverse_difference_moments |"
   ]
  },
  {
   "cell_type": "markdown",
   "id": "8a83a327-2093-493f-972d-64c080513ed5",
   "metadata": {},
   "source": [
    "## Future Perspective\n",
    "- Using litterature review for better features selections\n",
    "- I wonder if the color features are impactful"
   ]
  },
  {
   "cell_type": "code",
   "execution_count": 16,
   "id": "e8acfe2b-4206-4185-8f02-6ddc12c5584e",
   "metadata": {},
   "outputs": [],
   "source": [
    "# Libraries needed\n",
    "import os\n",
    "import numpy as np\n",
    "import pandas as pd\n",
    "import cv2\n",
    "import matplotlib.pyplot as plt\n",
    "import mahotas"
   ]
  },
  {
   "cell_type": "code",
   "execution_count": 25,
   "id": "54109277-c8e1-484c-b466-41626d57be2a",
   "metadata": {},
   "outputs": [],
   "source": [
    "def create_database():\n",
    "    \"\"\"Function that create a dataset of leaf features extracted\"\"\"\n",
    "    \n",
    "    names = ['area','perimeter','physiological_length','physiological_width','aspect_ratio','rectangularity','circularity',\n",
    "             'diameter','mean_red','mean_green','mean_blue','stddev_red','stddev_green','stddev_blue',\n",
    "             'contrast','correlation','inverse_difference_moments','entropy','species','img_name'\n",
    "            ]\n",
    "    data = []\n",
    "\n",
    "    ds_path = \"./../Downloads/Main-Data/\"\n",
    "    img_files = os.listdir(ds_path)\n",
    "\n",
    "    for species in img_files:\n",
    "        species_path = os.path.join(ds_path, species)\n",
    "        images = os.listdir(species_path)\n",
    "        for img in images:\n",
    "            img_path = os.path.join(species_path, img)\n",
    "            features = extract_features(img_path)\n",
    "            data.append(features + [species] + [img])\n",
    "\n",
    "    df = pd.DataFrame(data, columns=names)\n",
    "    return df"
   ]
  },
  {
   "cell_type": "code",
   "execution_count": 23,
   "id": "c4625e3e-0002-4b55-9858-e26dc8096481",
   "metadata": {},
   "outputs": [],
   "source": [
    "def extract_features(path):\n",
    "    \"\"\"\n",
    "    Function that extract features and return a list of them\n",
    "    It's basically the segmentation's function\n",
    "    \"\"\"\n",
    "    \n",
    "    image = cv2.imread(path)\n",
    "    image = cv2.resize(image, (1600, 1600))\n",
    "    image_b = cv2.cvtColor(image, cv2.COLOR_BGR2RGB)\n",
    "    image_lab = cv2.cvtColor(image, cv2.COLOR_BGR2Lab)\n",
    "\n",
    "    pixels = image_lab[:,:,1].flatten()\n",
    "    pixels = np.float32(pixels)\n",
    "    criteria = (cv2.TERM_CRITERIA_EPS + cv2.TERM_CRITERIA_MAX_ITER, 10, 1.0)\n",
    "    k = 2\n",
    "    compactness, labels, centers = cv2.kmeans(pixels, k, None, criteria, 10, cv2.KMEANS_RANDOM_CENTERS)\n",
    "\n",
    "    centers = np.uint8(centers)\n",
    "    segmented_image = centers[labels.flatten()]\n",
    "    segmented_image = segmented_image.reshape(image_lab[:,:,1].shape)\n",
    "    \n",
    "    center_target = min(centers)\n",
    "    binary_mask = np.where(segmented_image == center_target, 255, 0).astype(np.uint8)\n",
    "\n",
    "    kernel = cv2.getStructuringElement(cv2.MORPH_ELLIPSE,(3,3))\n",
    "    \n",
    "    binary_mask = cv2.morphologyEx(binary_mask, cv2.MORPH_DILATE, kernel)\n",
    "\n",
    "    contours, _ = cv2.findContours(binary_mask, cv2.RETR_EXTERNAL, cv2.CHAIN_APPROX_SIMPLE)\n",
    "\n",
    "    leaf = np.zeros_like(image_lab[:,:,1])\n",
    "\n",
    "    cv2.drawContours(leaf, [max(contours, key=cv2.contourArea)], -1, 255, 2)\n",
    "\n",
    "    segmented_image = cv2.bitwise_and(image_b, image_b, mask=binary_mask)\n",
    "\n",
    "    contours, _ = cv2.findContours(leaf, cv2.RETR_EXTERNAL, cv2.CHAIN_APPROX_SIMPLE)\n",
    "    cnt = contours[0]\n",
    "    \n",
    "    area = cv2.contourArea(cnt)\n",
    "    perimeter = cv2.arcLength(cnt,True)\n",
    "    x,y,w,h = cv2.boundingRect(cnt)\n",
    "    if w > h:\n",
    "        aspect_ratio = float(h)/w\n",
    "    else: \n",
    "        aspect_ratio = float(w)/h\n",
    "    \n",
    "    rectangularity = area / (w*h)\n",
    "    \n",
    "    circularity = (4 * np.pi * area) / ((perimeter)**2)\n",
    "    equi_diameter = 2 * np.sqrt(area / np.pi)\n",
    "\n",
    "    red_channel = segmented_image[:,:,0]\n",
    "    green_channel = segmented_image[:,:,1]\n",
    "    blue_channel = segmented_image[:,:,2]\n",
    "    \n",
    "    red_mean = np.mean(red_channel)\n",
    "    green_mean = np.mean(green_channel)\n",
    "    blue_mean = np.mean(blue_channel)\n",
    "    \n",
    "    red_std = np.std(red_channel)\n",
    "    green_std = np.std(green_channel)\n",
    "    blue_std = np.std(blue_channel)\n",
    "    \n",
    "    textures = mahotas.features.haralick(segmented_image)\n",
    "    ht_mean = textures.mean(axis=0)\n",
    "   \n",
    "    contrast = ht_mean[1]\n",
    "    correlation = ht_mean[2]\n",
    "    inverse_diff_moments = ht_mean[4]\n",
    "    entropy = ht_mean[8]\n",
    "    \n",
    "    return [area, perimeter, w, h, aspect_ratio, rectangularity, circularity, equi_diameter,\n",
    "           red_mean, green_mean, blue_mean, red_std, green_std, blue_std, contrast,\n",
    "           correlation, inverse_diff_moments, entropy]"
   ]
  },
  {
   "cell_type": "code",
   "execution_count": 24,
   "id": "cbae55ae-77de-4e4f-ac51-e43d715a96ca",
   "metadata": {},
   "outputs": [
    {
     "data": {
      "text/plain": [
       "[556358.0,\n",
       " 3553.031857609749,\n",
       " 1374,\n",
       " 598,\n",
       " 0.43522561863173215,\n",
       " 0.6771212143340489,\n",
       " 0.55381663716509,\n",
       " 841.6513569345478,\n",
       " 8.595147265625,\n",
       " 15.289895703125,\n",
       " 6.48874765625,\n",
       " 18.176401492501007,\n",
       " 30.146165657354874,\n",
       " 15.497898066464067,\n",
       " 223.08158965305637,\n",
       " 0.8172086571900673,\n",
       " 0.8001555937094343,\n",
       " 3.3197995781218803]"
      ]
     },
     "execution_count": 24,
     "metadata": {},
     "output_type": "execute_result"
    }
   ],
   "source": [
    "extract_features(\"./../Downloads/Plant-leaves/Mango/0001_0096.JPG\")"
   ]
  },
  {
   "cell_type": "code",
   "execution_count": 26,
   "id": "5f32dfee-efde-49d8-9ba8-c547448e828f",
   "metadata": {},
   "outputs": [],
   "source": [
    "dataset = create_database()\n",
    "dataset.to_csv(\"plant_features_kmeans_v1.csv\")"
   ]
  },
  {
   "cell_type": "code",
   "execution_count": null,
   "id": "b1b5f7c2-34a4-4b42-9d45-51e0b88dcab2",
   "metadata": {},
   "outputs": [],
   "source": []
  }
 ],
 "metadata": {
  "kernelspec": {
   "display_name": "venv",
   "language": "python",
   "name": "venv"
  },
  "language_info": {
   "codemirror_mode": {
    "name": "ipython",
    "version": 3
   },
   "file_extension": ".py",
   "mimetype": "text/x-python",
   "name": "python",
   "nbconvert_exporter": "python",
   "pygments_lexer": "ipython3",
   "version": "3.11.6"
  }
 },
 "nbformat": 4,
 "nbformat_minor": 5
}
