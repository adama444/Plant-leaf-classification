{
 "cells": [
  {
   "cell_type": "markdown",
   "id": "cd68c464-879a-4fdd-a4f5-1db862e0dcf7",
   "metadata": {},
   "source": [
    "# Data augmentation\n",
    "The purpose here is to increase the raw data size (plant leaf image). I apply three rotations of the base image: 90, 180 and 270 degrees, and two flips: first on the x-axis and the second on the y-axis."
   ]
  },
  {
   "cell_type": "code",
   "execution_count": 1,
   "id": "ce3691ff-374e-4517-bc5c-001acf5a1df7",
   "metadata": {},
   "outputs": [],
   "source": [
    "# Libraries needed\n",
    "import os\n",
    "import cv2\n",
    "import matplotlib.pyplot as plt"
   ]
  },
  {
   "cell_type": "code",
   "execution_count": 2,
   "id": "a1e5fa22-4342-4289-849f-ea9d5e233f70",
   "metadata": {},
   "outputs": [],
   "source": [
    "def data_augmentation():\n",
    "    # Setting path to the base plant leaf image's folder\n",
    "    main_path = \"./../Downloads/Plant-leaves/\"\n",
    "    # Setting path for the generated data\n",
    "    aug_path = \"./../Downloads/Aug-data/\"\n",
    "    species_dir_name = os.listdir(main_path)\n",
    "\n",
    "    # Loop on each plant leaf species folder\n",
    "    for species in species_dir_name:\n",
    "        species_path = os.path.join(main_path, species)\n",
    "        images = os.listdir(species_path)\n",
    "\n",
    "        # Loop on each image within the species folder\n",
    "        for img in images:\n",
    "            angles = [90, 180, 270]\n",
    "            for angle in angles:\n",
    "                # Setting image correct full path\n",
    "                img_path = os.path.join(species_path, img)\n",
    "                \n",
    "                image = cv2.imread(img_path)\n",
    "                image = cv2.cvtColor(image, cv2.COLOR_BGR2RGB)\n",
    "                image = cv2.resize(image, (8000, 8000))\n",
    "\n",
    "                # Get image shape\n",
    "                rows, cols = image.shape[:2]\n",
    "\n",
    "                # Apply affine transformation\n",
    "                rotation_matrix = cv2.getRotationMatrix2D((cols/2, rows/2), angle, 1)\n",
    "                augmented_image = cv2.warpAffine(image, rotation_matrix, (cols, rows))\n",
    "                augmented_image = cv2.cvtColor(augmented_image, cv2.COLOR_BGR2RGB)\n",
    "\n",
    "                # Final image name\n",
    "                img_aug_name = \"aug_\" + str(angle) + \"_\" + img\n",
    "\n",
    "                # Write image to the specified folder\n",
    "                final_path = os.path.join(aug_path, species, img_aug_name)\n",
    "                cv2.imwrite(final_path, augmented_image)\n",
    "\n",
    "                # Loop for image's flip operation\n",
    "                # 0 -> for flip on x-axis\n",
    "                # 1 -> for flip on y-axis\n",
    "                for i in range(2):\n",
    "                    img_aug_name = \"aug_flip_\" + str(i) + \"_\" + img\n",
    "                    final_path = os.path.join(aug_path, species, img_aug_name)\n",
    "                    \n",
    "                    augmented_image = cv2.flip(image, i)\n",
    "                    augmented_image = cv2.cvtColor(augmented_image, cv2.COLOR_BGR2RGB)\n",
    "                    cv2.imwrite(final_path, augmented_image)"
   ]
  },
  {
   "cell_type": "code",
   "execution_count": 3,
   "id": "35da6921-8b8c-4881-8af3-b26ec6d128db",
   "metadata": {},
   "outputs": [],
   "source": [
    "data_augmentation()"
   ]
  },
  {
   "cell_type": "code",
   "execution_count": null,
   "id": "54727a89-4ae5-4af0-bf63-4f93f2adb26d",
   "metadata": {},
   "outputs": [],
   "source": []
  }
 ],
 "metadata": {
  "kernelspec": {
   "display_name": "venv",
   "language": "python",
   "name": "venv"
  },
  "language_info": {
   "codemirror_mode": {
    "name": "ipython",
    "version": 3
   },
   "file_extension": ".py",
   "mimetype": "text/x-python",
   "name": "python",
   "nbconvert_exporter": "python",
   "pygments_lexer": "ipython3",
   "version": "3.11.6"
  }
 },
 "nbformat": 4,
 "nbformat_minor": 5
}
